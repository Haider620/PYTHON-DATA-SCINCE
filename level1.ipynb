{
 "cells": [
  {
   "cell_type": "code",
   "execution_count": 1,
   "metadata": {},
   "outputs": [
    {
     "data": {
      "text/plain": [
       "4"
      ]
     },
     "execution_count": 1,
     "metadata": {},
     "output_type": "execute_result"
    }
   ],
   "source": [
    "2+2"
   ]
  },
  {
   "cell_type": "code",
   "execution_count": 2,
   "metadata": {},
   "outputs": [
    {
     "data": {
      "text/plain": [
       "8"
      ]
     },
     "execution_count": 2,
     "metadata": {},
     "output_type": "execute_result"
    }
   ],
   "source": [
    "4+4"
   ]
  },
  {
   "attachments": {},
   "cell_type": "markdown",
   "metadata": {},
   "source": [
    "# python\n",
    "\n",
    "### LEVEL 1 \n",
    "- variable\n",
    "- input ouput\n",
    "- operators\n",
    "- datatypes\n",
    "\n",
    "### level 02\n",
    "- conditional statement\n",
    "   - if\n",
    "   - ifelse\n",
    "   - elif\n",
    "   - match\n",
    "\n",
    "- loops\n",
    "     - for\n",
    "     - while\n",
    "- functios\n",
    "\n",
    "### level 03\n",
    "- string\n",
    "- dict\n",
    "- list\n",
    "- set and plays\n",
    "\n",
    "# the is markdowm"
   ]
  },
  {
   "cell_type": "code",
   "execution_count": 3,
   "metadata": {},
   "outputs": [],
   "source": []
  },
  {
   "cell_type": "code",
   "execution_count": 7,
   "metadata": {},
   "outputs": [],
   "source": [
    "age = 10\n",
    "is_married = False\n",
    "name = 'bob'\n",
    "value = 1.323\n"
   ]
  },
  {
   "cell_type": "code",
   "execution_count": 8,
   "metadata": {},
   "outputs": [],
   "source": [
    "x = None"
   ]
  },
  {
   "cell_type": "code",
   "execution_count": 9,
   "metadata": {},
   "outputs": [],
   "source": [
    "a = {3,10,15,20,25,30,35,40}\n",
    "vals = {1,22,'python'}\n",
    "colors = { 'red','green','yellow'}"
   ]
  },
  {
   "cell_type": "code",
   "execution_count": 10,
   "metadata": {},
   "outputs": [],
   "source": [
    "car_info = {\n",
    "    \"brand\": \"ford\",\n",
    "    \"model\": \"mustang\",\n",
    "    \"color\": \"black\"\n",
    "\n",
    "}"
   ]
  },
  {
   "cell_type": "code",
   "execution_count": 11,
   "metadata": {},
   "outputs": [
    {
     "name": "stdout",
     "output_type": "stream",
     "text": [
      "8\n",
      "-4\n",
      "12\n",
      "0.3333333333333333\n",
      "0\n",
      "2\n"
     ]
    }
   ],
   "source": [
    "y = 6\n",
    "x = 2\n",
    "print(x + y)\n",
    "print(x - y)\n",
    "print(x * y)\n",
    "print(x / y)\n",
    "print(x // y)\n",
    "print(x % y)"
   ]
  },
  {
   "cell_type": "code",
   "execution_count": null,
   "metadata": {},
   "outputs": [],
   "source": [
    "print(x > y)\n",
    "print(x < y)\n",
    "print(x == 100)\n",
    "print(x != 30)\n",
    "print(x >= 50)\n",
    "print(y <= 20)\n",
    "print"
   ]
  },
  {
   "cell_type": "code",
   "execution_count": 2,
   "metadata": {},
   "outputs": [],
   "source": [
    "diameter =float(input(\"enter the diameter\"))\n",
    "radius=diameter/2\n",
    "pi=3.14\n",
    "area= str(pi*radius*radius)\n",
    "circumference= str(2*pi*radius)\n",
    "print(\"the area is :\"+ area)\n",
    "print(\"the circumference is:\"+ circumference)\n",
    "\n"
   ]
  },
  {
   "cell_type": "code",
   "execution_count": null,
   "metadata": {},
   "outputs": [],
   "source": []
  }
 ],
 "metadata": {
  "kernelspec": {
   "display_name": "base",
   "language": "python",
   "name": "python3"
  },
  "language_info": {
   "codemirror_mode": {
    "name": "ipython",
    "version": 3
   },
   "file_extension": ".py",
   "mimetype": "text/x-python",
   "name": "python",
   "nbconvert_exporter": "python",
   "pygments_lexer": "ipython3",
   "version": "3.10.8"
  },
  "orig_nbformat": 4,
  "vscode": {
   "interpreter": {
    "hash": "5b6002d1e928962cd19dde4287e8a81266a3dfa22c12012df96bb19a6e27b9c0"
   }
  }
 },
 "nbformat": 4,
 "nbformat_minor": 2
}
