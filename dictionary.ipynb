{
 "cells": [
  {
   "attachments": {},
   "cell_type": "markdown",
   "metadata": {},
   "source": [
    "#dictionary\n",
    "\n",
    "-ordered data structure\n",
    "-inindexed mutable\n",
    "-key: value pair\n",
    "-key us imutable, unique\n",
    "-value is mutable and can be duplicate and heteroge\n",
    "-dictionary can be nested\n",
    "-dict can be created using dict() function\n",
    "-dict can be created using {} curly brackets\n"
   ]
  },
  {
   "cell_type": "code",
   "execution_count": 1,
   "metadata": {},
   "outputs": [
    {
     "name": "stdout",
     "output_type": "stream",
     "text": [
      "['brandon sanderson', 'the lost metal', 7, 'fantsay', '2022', '19.00']\n"
     ]
    }
   ],
   "source": [
    "details = ['brandon sanderson', 'the lost metal', 7, 'fantsay', '2022','19.00']\n",
    "print(details)"
   ]
  },
  {
   "cell_type": "code",
   "execution_count": 2,
   "metadata": {},
   "outputs": [],
   "source": [
    "details_dict ={\n",
    "    'Author': 'brandon sanderson',\n",
    "    'Title': 'the last metal',\n",
    "    'Part': 7,\n",
    "    'Genere': 'Fantasy',\n",
    "    'Release date': '2022',\n",
    "    'Price': '$19.00'\n",
    "}\n"
   ]
  },
  {
   "cell_type": "code",
   "execution_count": 3,
   "metadata": {},
   "outputs": [
    {
     "name": "stdout",
     "output_type": "stream",
     "text": [
      "{'Author': 'brandon sanderson', 'Title': 'the last metal', 'Part': 7, 'Genere': 'Fantasy', 'Release date': '2022', 'Price': '$19.00'}\n",
      "<class 'dict'>\n"
     ]
    }
   ],
   "source": [
    "print(details_dict)\n",
    "print(type(details_dict))"
   ]
  },
  {
   "cell_type": "code",
   "execution_count": 4,
   "metadata": {},
   "outputs": [
    {
     "data": {
      "text/plain": [
       "'brandon sanderson'"
      ]
     },
     "execution_count": 4,
     "metadata": {},
     "output_type": "execute_result"
    }
   ],
   "source": [
    "details_dict['Author']"
   ]
  },
  {
   "cell_type": "code",
   "execution_count": 5,
   "metadata": {},
   "outputs": [
    {
     "data": {
      "text/plain": [
       "'2022'"
      ]
     },
     "execution_count": 5,
     "metadata": {},
     "output_type": "execute_result"
    }
   ],
   "source": [
    "details_dict['Release date']"
   ]
  },
  {
   "cell_type": "code",
   "execution_count": 7,
   "metadata": {},
   "outputs": [],
   "source": [
    "details_dict['Release date'] = '15 Nov, 22'"
   ]
  },
  {
   "cell_type": "code",
   "execution_count": 8,
   "metadata": {},
   "outputs": [],
   "source": [
    "student_dict ={\n",
    "    'Name': 'Haider ali',\n",
    "    'Age': 22,\n",
    "    \n",
    "\n",
    "}"
   ]
  },
  {
   "cell_type": "code",
   "execution_count": 9,
   "metadata": {},
   "outputs": [],
   "source": [
    "details_dict['Pages'] = 558"
   ]
  },
  {
   "cell_type": "code",
   "execution_count": 10,
   "metadata": {},
   "outputs": [
    {
     "name": "stdout",
     "output_type": "stream",
     "text": [
      "{'Author': 'brandon sanderson', 'Title': 'the last metal', 'Part': 7, 'Genere': 'Fantasy', 'Release date': '15 Nov, 22', 'Price': '$19.00', 'Pages': 558}\n"
     ]
    }
   ],
   "source": [
    "print(details_dict)"
   ]
  },
  {
   "cell_type": "code",
   "execution_count": 11,
   "metadata": {},
   "outputs": [
    {
     "name": "stdout",
     "output_type": "stream",
     "text": [
      "Author\n",
      "Title\n",
      "Part\n",
      "Genere\n",
      "Release date\n",
      "Price\n",
      "Pages\n"
     ]
    }
   ],
   "source": [
    "for k in details_dict:\n",
    "    print(k)"
   ]
  },
  {
   "cell_type": "code",
   "execution_count": 14,
   "metadata": {},
   "outputs": [
    {
     "name": "stdout",
     "output_type": "stream",
     "text": [
      "Author                                                                 brandon sanderson\n",
      "Title                                                                  the last metal\n",
      "Part                                                                   7\n",
      "Genere                                                                 Fantasy\n",
      "Release date                                                           15 Nov, 22\n",
      "Price                                                                  $19.00\n",
      "Pages                                                                  558\n"
     ]
    }
   ],
   "source": [
    "for k,v in details_dict.items():\n",
    "    print(f'{k:70} {v}')"
   ]
  },
  {
   "cell_type": "code",
   "execution_count": null,
   "metadata": {},
   "outputs": [],
   "source": []
  }
 ],
 "metadata": {
  "kernelspec": {
   "display_name": "base",
   "language": "python",
   "name": "python3"
  },
  "language_info": {
   "codemirror_mode": {
    "name": "ipython",
    "version": 3
   },
   "file_extension": ".py",
   "mimetype": "text/x-python",
   "name": "python",
   "nbconvert_exporter": "python",
   "pygments_lexer": "ipython3",
   "version": "3.10.8"
  },
  "orig_nbformat": 4,
  "vscode": {
   "interpreter": {
    "hash": "5b6002d1e928962cd19dde4287e8a81266a3dfa22c12012df96bb19a6e27b9c0"
   }
  }
 },
 "nbformat": 4,
 "nbformat_minor": 2
}
