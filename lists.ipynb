{
 "cells": [
  {
   "cell_type": "code",
   "execution_count": 2,
   "metadata": {},
   "outputs": [],
   "source": [
    "a = [ ]  #empty list\n",
    "b= [ 1,2 , 4, 5, 6 ,7 ,8]#list of integers\n",
    "c = ['apple', 'banana', 'oragne']\n",
    "d = [[1,2,3], [4,5,6], [7,8,9] ]\n",
    "e =[ 'apple',20, False, 'mango', 50.5, True ]"
   ]
  },
  {
   "cell_type": "code",
   "execution_count": 3,
   "metadata": {},
   "outputs": [
    {
     "name": "stdout",
     "output_type": "stream",
     "text": [
      "['t', 'h', 'e', ' ', 'l', 'o', 's', 't', ' ', 'm', 'e', 't', 'a', 'l']\n"
     ]
    }
   ],
   "source": [
    "word = 'the lost metal'\n",
    "chars = list(word)\n",
    "print(chars)\n"
   ]
  },
  {
   "cell_type": "code",
   "execution_count": 4,
   "metadata": {},
   "outputs": [
    {
     "name": "stdout",
     "output_type": "stream",
     "text": [
      "[1, 2, 3, 1, 2, 3, 1, 2, 3, 1, 2, 3, 1, 2, 3]\n"
     ]
    }
   ],
   "source": [
    "f = [1,2,3]*5\n",
    "print(f)"
   ]
  },
  {
   "cell_type": "code",
   "execution_count": 5,
   "metadata": {},
   "outputs": [],
   "source": [
    "name= input(\"enter a name:\")\n",
    "a.append(name)"
   ]
  },
  {
   "cell_type": "code",
   "execution_count": 6,
   "metadata": {},
   "outputs": [
    {
     "data": {
      "text/plain": [
       "15"
      ]
     },
     "execution_count": 6,
     "metadata": {},
     "output_type": "execute_result"
    }
   ],
   "source": [
    "movies= ['pathan','AVENGERS','DON 2','eternals','ADAM','morbius','KGF','KGF 2','BHAHUBALI 1','TERMINATOR','spider-man', 'the dark knight',\n",
    "         'broken heart','the promises','kungh fu master']\n",
    "len(movies)"
   ]
  },
  {
   "cell_type": "code",
   "execution_count": 7,
   "metadata": {},
   "outputs": [
    {
     "name": "stdout",
     "output_type": "stream",
     "text": [
      "morbius\n",
      "kungh fu master\n",
      "['AVENGERS', 'DON 2', 'eternals', 'ADAM']\n",
      "['pathan', 'AVENGERS', 'DON 2', 'eternals', 'ADAM', 'morbius', 'KGF', 'KGF 2']\n"
     ]
    }
   ],
   "source": [
    "print(movies[5])\n",
    "print(movies[-1])\n",
    "print(movies[1:5])\n",
    "print(movies[:8])"
   ]
  },
  {
   "cell_type": "code",
   "execution_count": 8,
   "metadata": {},
   "outputs": [
    {
     "name": "stdout",
     "output_type": "stream",
     "text": [
      "['pathan', 'AVENGERS', 'DON 2', 'action hero', 'ADAM', 'morbius', 'KGF', 'KGF 2', 'BHAHUBALI 1', 'TERMINATOR', 'spider-man', 'the dark knight', 'broken heart', 'the promises', 'kungh fu master']\n"
     ]
    }
   ],
   "source": [
    "movies[3] = 'action hero'\n",
    "print(movies)"
   ]
  },
  {
   "attachments": {},
   "cell_type": "markdown",
   "metadata": {},
   "source": [
    "concept of slicing"
   ]
  },
  {
   "cell_type": "code",
   "execution_count": 10,
   "metadata": {},
   "outputs": [
    {
     "name": "stdout",
     "output_type": "stream",
     "text": [
      "['pathan', 'AVENGERS', 'DON 2', 'action hero', 'ADAM']\n",
      "['spider-man', 'the dark knight', 'broken heart', 'the promises', 'kungh fu master']\n",
      "['action hero', 'ADAM', 'morbius', 'KGF', 'KGF 2', 'BHAHUBALI 1', 'TERMINATOR', 'spider-man', 'the dark knight']\n",
      "['kungh fu master', 'the promises', 'broken heart', 'the dark knight', 'spider-man', 'TERMINATOR', 'BHAHUBALI 1', 'KGF 2', 'KGF', 'morbius', 'ADAM', 'action hero', 'DON 2', 'AVENGERS', 'pathan']\n"
     ]
    }
   ],
   "source": [
    "print(movies[:5])\n",
    "print(movies[-5:])\n",
    "print(movies[3:-3])#all movies except first 3 and last 3\n",
    "print(movies[::-1])# reverse order"
   ]
  },
  {
   "cell_type": "code",
   "execution_count": null,
   "metadata": {},
   "outputs": [],
   "source": []
  }
 ],
 "metadata": {
  "kernelspec": {
   "display_name": "base",
   "language": "python",
   "name": "python3"
  },
  "language_info": {
   "codemirror_mode": {
    "name": "ipython",
    "version": 3
   },
   "file_extension": ".py",
   "mimetype": "text/x-python",
   "name": "python",
   "nbconvert_exporter": "python",
   "pygments_lexer": "ipython3",
   "version": "3.10.8"
  },
  "orig_nbformat": 4,
  "vscode": {
   "interpreter": {
    "hash": "5b6002d1e928962cd19dde4287e8a81266a3dfa22c12012df96bb19a6e27b9c0"
   }
  }
 },
 "nbformat": 4,
 "nbformat_minor": 2
}
